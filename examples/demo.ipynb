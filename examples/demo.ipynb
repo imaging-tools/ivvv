{
 "cells": [
  {
   "cell_type": "code",
   "execution_count": 1,
   "metadata": {},
   "outputs": [],
   "source": [
    "import ipyvolume\n",
    "import matplotlib.pyplot\n",
    "import numpy\n",
    "import traitlets\n",
    "import traittypes\n",
    "import ipywidgets"
   ]
  },
  {
   "cell_type": "code",
   "execution_count": 2,
   "metadata": {},
   "outputs": [],
   "source": [
    "class VolumeWidget(ipywidgets.DOMWidget):\n",
    "    _view_name = traitlets.Unicode(\"VolumeWidgetView\").tag(sync=True)\n",
    "\n",
    "    _view_module = traitlets.Unicode(\"volume\").tag(sync=True)\n",
    "\n",
    "    _view_module_version = traitlets.Unicode(\"1.0.0\").tag(sync=True)\n",
    "\n",
    "    image = traittypes.Array([])\n",
    "\n",
    "    metadata = traitlets.Dict({\"foo\": \"bar\"})"
   ]
  },
  {
   "cell_type": "code",
   "execution_count": 3,
   "metadata": {},
   "outputs": [
    {
     "data": {
      "application/javascript": [
       "require.undef(\"volume\");\n",
       "\n",
       "define(\"volume\", [\"@jupyter-widgets/base\"], function(widgets) {\n",
       "    const VolumeWidgetView = widgets.DOMWidgetView.extend({\n",
       "        render: function () {\n",
       "            const metadata = this.model.get(\"metadata\");\n",
       "\n",
       "            const volume = this.model.get(\"image\");\n",
       "\n",
       "            this.el.textContent = \"do stuff on `this.el`\";\n",
       "        }\n",
       "    });\n",
       "\n",
       "    return {\n",
       "        VolumeWidgetView: VolumeWidgetView\n",
       "    }\n",
       "});"
      ],
      "text/plain": [
       "<IPython.core.display.Javascript object>"
      ]
     },
     "metadata": {},
     "output_type": "display_data"
    }
   ],
   "source": [
    "%%javascript\n",
    "require.undef(\"volume\");\n",
    "\n",
    "define(\"volume\", [\"@jupyter-widgets/base\"], function(widgets) {\n",
    "    const VolumeWidgetView = widgets.DOMWidgetView.extend({\n",
    "        render: function () {\n",
    "            const metadata = this.model.get(\"metadata\");\n",
    "\n",
    "            const volume = this.model.get(\"image\");\n",
    "\n",
    "            this.el.textContent = \"do stuff on `this.el`\";\n",
    "        }\n",
    "    });\n",
    "\n",
    "    return {\n",
    "        VolumeWidgetView: VolumeWidgetView\n",
    "    }\n",
    "});"
   ]
  },
  {
   "cell_type": "code",
   "execution_count": 4,
   "metadata": {},
   "outputs": [],
   "source": [
    "volume_widget = VolumeWidget()"
   ]
  },
  {
   "cell_type": "code",
   "execution_count": 5,
   "metadata": {},
   "outputs": [
    {
     "data": {
      "text/plain": [
       "array([], dtype=float64)"
      ]
     },
     "execution_count": 5,
     "metadata": {},
     "output_type": "execute_result"
    }
   ],
   "source": [
    "volume_widget.image"
   ]
  },
  {
   "cell_type": "code",
   "execution_count": 6,
   "metadata": {},
   "outputs": [
    {
     "data": {
      "text/plain": [
       "{'foo': 'bar'}"
      ]
     },
     "execution_count": 6,
     "metadata": {},
     "output_type": "execute_result"
    }
   ],
   "source": [
    "volume_widget.metadata"
   ]
  },
  {
   "cell_type": "code",
   "execution_count": 7,
   "metadata": {},
   "outputs": [],
   "source": [
    "volume_widget.image = numpy.random.random((10, 224, 224, 3))"
   ]
  },
  {
   "cell_type": "code",
   "execution_count": 8,
   "metadata": {},
   "outputs": [
    {
     "data": {
      "application/vnd.jupyter.widget-view+json": {
       "model_id": "193e945d2c5a4adfbf48c343118ee69f",
       "version_major": 2,
       "version_minor": 0
      },
      "text/html": [
       "<p>Failed to display Jupyter Widget of type <code>VolumeWidget</code>.</p>\n",
       "<p>\n",
       "  If you're reading this message in the Jupyter Notebook or JupyterLab Notebook, it may mean\n",
       "  that the widgets JavaScript is still loading. If this message persists, it\n",
       "  likely means that the widgets JavaScript library is either not installed or\n",
       "  not enabled. See the <a href=\"https://ipywidgets.readthedocs.io/en/stable/user_install.html\">Jupyter\n",
       "  Widgets Documentation</a> for setup instructions.\n",
       "</p>\n",
       "<p>\n",
       "  If you're reading this message in another frontend (for example, a static\n",
       "  rendering on GitHub or <a href=\"https://nbviewer.jupyter.org/\">NBViewer</a>),\n",
       "  it may mean that your frontend doesn't currently support widgets.\n",
       "</p>\n"
      ],
      "text/plain": [
       "VolumeWidget()"
      ]
     },
     "metadata": {},
     "output_type": "display_data"
    }
   ],
   "source": [
    "volume_widget"
   ]
  },
  {
   "cell_type": "code",
   "execution_count": 9,
   "metadata": {},
   "outputs": [],
   "source": [
    "def volshow(image):\n",
    "    volume_widget = VolumeWidget()\n",
    "\n",
    "    volume_widget.image = image\n",
    "\n",
    "    return volume_widget"
   ]
  },
  {
   "cell_type": "code",
   "execution_count": 10,
   "metadata": {},
   "outputs": [
    {
     "data": {
      "application/vnd.jupyter.widget-view+json": {
       "model_id": "7d594fea5b3941d387508d745b5cc2ba",
       "version_major": 2,
       "version_minor": 0
      },
      "text/html": [
       "<p>Failed to display Jupyter Widget of type <code>VolumeWidget</code>.</p>\n",
       "<p>\n",
       "  If you're reading this message in the Jupyter Notebook or JupyterLab Notebook, it may mean\n",
       "  that the widgets JavaScript is still loading. If this message persists, it\n",
       "  likely means that the widgets JavaScript library is either not installed or\n",
       "  not enabled. See the <a href=\"https://ipywidgets.readthedocs.io/en/stable/user_install.html\">Jupyter\n",
       "  Widgets Documentation</a> for setup instructions.\n",
       "</p>\n",
       "<p>\n",
       "  If you're reading this message in another frontend (for example, a static\n",
       "  rendering on GitHub or <a href=\"https://nbviewer.jupyter.org/\">NBViewer</a>),\n",
       "  it may mean that your frontend doesn't currently support widgets.\n",
       "</p>\n"
      ],
      "text/plain": [
       "VolumeWidget()"
      ]
     },
     "metadata": {},
     "output_type": "display_data"
    }
   ],
   "source": [
    "image = numpy.random.random((10, 224, 224, 3))\n",
    "\n",
    "volshow(image)"
   ]
  }
 ],
 "metadata": {
  "kernelspec": {
   "display_name": "Python 3",
   "language": "python",
   "name": "python3"
  },
  "language_info": {
   "codemirror_mode": {
    "name": "ipython",
    "version": 3
   },
   "file_extension": ".py",
   "mimetype": "text/x-python",
   "name": "python",
   "nbconvert_exporter": "python",
   "pygments_lexer": "ipython3",
   "version": "3.6.5"
  }
 },
 "nbformat": 4,
 "nbformat_minor": 2
}
