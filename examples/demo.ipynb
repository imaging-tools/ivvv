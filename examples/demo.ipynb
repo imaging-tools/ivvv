{
 "cells": [
  {
   "cell_type": "code",
   "execution_count": null,
   "metadata": {},
   "outputs": [],
   "source": [
    "import numpy\n",
    "import skimage.io\n",
    "\n",
    "import ivvv"
   ]
  },
  {
   "cell_type": "code",
   "execution_count": null,
   "metadata": {},
   "outputs": [],
   "source": [
    "image = skimage.io.imread(\"/Users/agoodman/Downloads/AICS-10_5_5.ome.tif\")\n",
    "\n",
    "image = numpy.transpose(image, [0, 2, 3, 1])"
   ]
  },
  {
   "cell_type": "code",
   "execution_count": null,
   "metadata": {},
   "outputs": [],
   "source": [
    "def resize(image, output_shape):\n",
    "    response = numpy.zeros((image.shape[0], *output_shape))\n",
    "\n",
    "    for index, image in enumerate(image):\n",
    "        response[index] = skimage.transform.resize(image, output_shape, mode=\"reflect\")\n",
    "\n",
    "    return response\n",
    "\n",
    "def resize_volume(image, output_shape):\n",
    "    channels = image.shape[-1]\n",
    "\n",
    "    output_shape = (256, 256)\n",
    "\n",
    "    response = numpy.zeros((image.shape[0], *output_shape, channels))\n",
    "\n",
    "    for channel_index in range(channels):\n",
    "        response[..., channel_index] = resize(image[..., channel_index], output_shape)\n",
    "        \n",
    "    return response"
   ]
  },
  {
   "cell_type": "code",
   "execution_count": null,
   "metadata": {},
   "outputs": [],
   "source": [
    "example = image"
   ]
  },
  {
   "cell_type": "code",
   "execution_count": null,
   "metadata": {},
   "outputs": [],
   "source": [
    "resize_volume(image, (256, 256)).shape"
   ]
  },
  {
   "cell_type": "code",
   "execution_count": null,
   "metadata": {},
   "outputs": [],
   "source": [
    "response.shape"
   ]
  },
  {
   "cell_type": "code",
   "execution_count": null,
   "metadata": {},
   "outputs": [],
   "source": [
    "skimage.io.imshow(image[10, :, :, 0])\n",
    "\n",
    "# (1.0, 0.41295546558704455, 0.954248366013072, 1.0)"
   ]
  },
  {
   "cell_type": "code",
   "execution_count": null,
   "metadata": {},
   "outputs": [],
   "source": [
    "ivvv.volshow(image, size=(256, 256), spacing=(1.0, 1.0, 4.0))"
   ]
  },
  {
   "cell_type": "code",
   "execution_count": null,
   "metadata": {},
   "outputs": [],
   "source": []
  }
 ],
 "metadata": {
  "kernelspec": {
   "display_name": "Python 3",
   "language": "python",
   "name": "python3"
  },
  "language_info": {
   "codemirror_mode": {
    "name": "ipython",
    "version": 3
   },
   "file_extension": ".py",
   "mimetype": "text/x-python",
   "name": "python",
   "nbconvert_exporter": "python",
   "pygments_lexer": "ipython3",
   "version": "3.6.5"
  }
 },
 "nbformat": 4,
 "nbformat_minor": 2
}
