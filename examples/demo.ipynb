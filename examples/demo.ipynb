{
 "cells": [
  {
   "cell_type": "code",
   "execution_count": 1,
   "metadata": {},
   "outputs": [],
   "source": [
    "import ipydatawidgets\n",
    "import ipywidgets\n",
    "import numpy\n",
    "import traitlets\n",
    "import traittypes"
   ]
  },
  {
   "cell_type": "code",
   "execution_count": null,
   "metadata": {},
   "outputs": [],
   "source": [
    "class VolumeWidget(ipywidgets.DOMWidget):\n",
    "    _view_name = traitlets.Unicode(\"VolumeWidgetView\").tag(sync=True)\n",
    "\n",
    "    _view_module = traitlets.Unicode(\"volume\").tag(sync=True)\n",
    "\n",
    "    _view_module_version = traitlets.Unicode(\"1.0.0\").tag(sync=True)\n",
    "\n",
    "    image = ipydatawidgets.NDArray(numpy.zeros(0)).tag(sync=True, **ipydatawidgets.array_serialization)\n",
    "\n",
    "    metadata = traitlets.Dict({\"foo\": \"bar\"})"
   ]
  },
  {
   "cell_type": "code",
   "execution_count": null,
   "metadata": {},
   "outputs": [],
   "source": [
    "%%javascript\n",
    "require.undef(\"volume\");\n",
    "\n",
    "define(\"volume\", [\"@jupyter-widgets/base\"], function(widgets) {\n",
    "    const VolumeWidgetView = widgets.DOMWidgetView.extend({\n",
    "        render: function () {\n",
    "            const metadata = this.model.get(\"metadata\");\n",
    "\n",
    "            const image = this.model.get(\"image\");\n",
    "\n",
    "            this.el.textContent = \"do stuff on `this.el`\";\n",
    "        }\n",
    "    });\n",
    "\n",
    "    return {\n",
    "        VolumeWidgetView: VolumeWidgetView\n",
    "    }\n",
    "});"
   ]
  },
  {
   "cell_type": "code",
   "execution_count": null,
   "metadata": {},
   "outputs": [],
   "source": [
    "widget = VolumeWidget()\n",
    "\n",
    "widget.image = numpy.random.random((10, 256, 256, 3))"
   ]
  },
  {
   "cell_type": "code",
   "execution_count": null,
   "metadata": {},
   "outputs": [],
   "source": [
    "widget"
   ]
  },
  {
   "cell_type": "code",
   "execution_count": null,
   "metadata": {},
   "outputs": [],
   "source": []
  }
 ],
 "metadata": {
  "kernelspec": {
   "display_name": "Python 3",
   "language": "python",
   "name": "python3"
  },
  "language_info": {
   "codemirror_mode": {
    "name": "ipython",
    "version": 3
   },
   "file_extension": ".py",
   "mimetype": "text/x-python",
   "name": "python",
   "nbconvert_exporter": "python",
   "pygments_lexer": "ipython3",
   "version": "3.6.5"
  }
 },
 "nbformat": 4,
 "nbformat_minor": 2
}
