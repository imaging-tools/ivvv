{
 "cells": [
  {
   "cell_type": "code",
   "execution_count": 1,
   "metadata": {},
   "outputs": [],
   "source": [
    "import ipyvolume\n",
    "import matplotlib.pyplot\n",
    "import numpy\n",
    "import traitlets\n",
    "import traittypes\n",
    "import ipywidgets"
   ]
  },
  {
   "cell_type": "code",
   "execution_count": 2,
   "metadata": {},
   "outputs": [],
   "source": [
    "class VolumeWidget(ipywidgets.DOMWidget):\n",
    "    _view_name = traitlets.Unicode(\"VolumeWidgetView\").tag(sync=True)\n",
    "\n",
    "    _view_module = traitlets.Unicode(\"volume\").tag(sync=True)\n",
    "\n",
    "    _view_module_version = traitlets.Unicode(\"1.0.0\").tag(sync=True)\n",
    "\n",
    "    image = traittypes.Array([])\n",
    "\n",
    "    metadata = traitlets.Dict({\"foo\": \"bar\"})"
   ]
  },
  {
   "cell_type": "code",
   "execution_count": 5,
   "metadata": {},
   "outputs": [
    {
     "data": {
      "application/javascript": [
       "import {DOMWidgetView} from '@jupyter-widgets/base';\n",
       "\n",
       "// const VolumeWidgetView = DOMWidgetView.extend({\n",
       "//    render: function () {\n",
       "//         const metadata = this.model.get(\"metadata\");\n",
       "\n",
       "//         const image = this.model.get(\"image\");\n",
       "\n",
       "//         this.el.textContent = \"do stuff on `this.el`\";\n",
       "//    }\n",
       "// });\n",
       "\n",
       "// export default VolumeWidgetView;"
      ],
      "text/plain": [
       "<IPython.core.display.Javascript object>"
      ]
     },
     "metadata": {},
     "output_type": "display_data"
    }
   ],
   "source": [
    "%%javascript\n",
    "import {DOMWidgetView} from '@jupyter-widgets/base';\n",
    "\n",
    "// const VolumeWidgetView = DOMWidgetView.extend({\n",
    "//    render: function () {\n",
    "//         const metadata = this.model.get(\"metadata\");\n",
    "\n",
    "//         const image = this.model.get(\"image\");\n",
    "\n",
    "//         this.el.textContent = \"do stuff on `this.el`\";\n",
    "//    }\n",
    "// });\n",
    "\n",
    "// export default VolumeWidgetView;"
   ]
  },
  {
   "cell_type": "code",
   "execution_count": null,
   "metadata": {},
   "outputs": [],
   "source": [
    "volume_widget = VolumeWidget()"
   ]
  },
  {
   "cell_type": "code",
   "execution_count": null,
   "metadata": {},
   "outputs": [],
   "source": [
    "volume_widget.image"
   ]
  },
  {
   "cell_type": "code",
   "execution_count": null,
   "metadata": {},
   "outputs": [],
   "source": [
    "volume_widget.metadata"
   ]
  },
  {
   "cell_type": "code",
   "execution_count": null,
   "metadata": {},
   "outputs": [],
   "source": [
    "volume_widget.image = numpy.random.random((10, 224, 224, 3))"
   ]
  },
  {
   "cell_type": "code",
   "execution_count": null,
   "metadata": {},
   "outputs": [],
   "source": [
    "volume_widget"
   ]
  },
  {
   "cell_type": "code",
   "execution_count": null,
   "metadata": {},
   "outputs": [],
   "source": [
    "def volshow(image):\n",
    "    volume_widget = VolumeWidget()\n",
    "\n",
    "    volume_widget.image = image\n",
    "\n",
    "    return volume_widget"
   ]
  },
  {
   "cell_type": "code",
   "execution_count": null,
   "metadata": {},
   "outputs": [],
   "source": [
    "image = numpy.random.random((10, 224, 224, 3))\n",
    "\n",
    "volshow(image)"
   ]
  },
  {
   "cell_type": "code",
   "execution_count": null,
   "metadata": {},
   "outputs": [],
   "source": []
  },
  {
   "cell_type": "code",
   "execution_count": null,
   "metadata": {},
   "outputs": [],
   "source": []
  }
 ],
 "metadata": {
  "kernelspec": {
   "display_name": "Python 3",
   "language": "python",
   "name": "python3"
  },
  "language_info": {
   "codemirror_mode": {
    "name": "ipython",
    "version": 3
   },
   "file_extension": ".py",
   "mimetype": "text/x-python",
   "name": "python",
   "nbconvert_exporter": "python",
   "pygments_lexer": "ipython3",
   "version": "3.6.5"
  }
 },
 "nbformat": 4,
 "nbformat_minor": 2
}
